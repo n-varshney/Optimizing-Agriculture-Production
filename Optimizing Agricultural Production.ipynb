{
 "cells": [
  {
   "cell_type": "markdown",
   "metadata": {},
   "source": [
    "# Problem Statement\n",
    "\n",
    "Build a predictive model so as to suggest the most suitable crops to grow based on the available climatic and soil conditions."
   ]
  },
  {
   "cell_type": "markdown",
   "metadata": {},
   "source": [
    "## Goal\n",
    "\n",
    "Achieve Precision Farming by Optimizing the agricultural production"
   ]
  },
  {
   "cell_type": "markdown",
   "metadata": {},
   "source": [
    "This project is intended on precision farming.\n",
    "\n",
    "1. We have to optimize productivity.\n",
    "2. Understand the requirements of climatic and soil conditions for crops.\n",
    "3. Helps us to cope with the weather unpredictability."
   ]
  },
  {
   "cell_type": "code",
   "execution_count": 3,
   "metadata": {},
   "outputs": [],
   "source": [
    "#for manipulations\n",
    "import numpy as np\n",
    "import pandas as pd\n",
    "\n",
    "#for data visualization\n",
    "import matplotlib.pyplot as plt\n",
    "import seaborn as sns\n",
    "\n",
    "#for interactivity\n",
    "from ipywidgets import interact"
   ]
  },
  {
   "cell_type": "code",
   "execution_count": 4,
   "metadata": {},
   "outputs": [],
   "source": [
    "#read the data set\n",
    "data = pd.read_csv('data.csv')"
   ]
  },
  {
   "cell_type": "code",
   "execution_count": 8,
   "metadata": {},
   "outputs": [
    {
     "name": "stdout",
     "output_type": "stream",
     "text": [
      "Shape of the data set :  (2200, 8)\n"
     ]
    }
   ],
   "source": [
    "#check the shape of the dataset\n",
    "print(\"Shape of the data set : \", data.shape)"
   ]
  },
  {
   "cell_type": "code",
   "execution_count": 9,
   "metadata": {},
   "outputs": [
    {
     "data": {
      "text/html": [
       "<div>\n",
       "<style scoped>\n",
       "    .dataframe tbody tr th:only-of-type {\n",
       "        vertical-align: middle;\n",
       "    }\n",
       "\n",
       "    .dataframe tbody tr th {\n",
       "        vertical-align: top;\n",
       "    }\n",
       "\n",
       "    .dataframe thead th {\n",
       "        text-align: right;\n",
       "    }\n",
       "</style>\n",
       "<table border=\"1\" class=\"dataframe\">\n",
       "  <thead>\n",
       "    <tr style=\"text-align: right;\">\n",
       "      <th></th>\n",
       "      <th>N</th>\n",
       "      <th>P</th>\n",
       "      <th>K</th>\n",
       "      <th>temperature</th>\n",
       "      <th>humidity</th>\n",
       "      <th>ph</th>\n",
       "      <th>rainfall</th>\n",
       "      <th>label</th>\n",
       "    </tr>\n",
       "  </thead>\n",
       "  <tbody>\n",
       "    <tr>\n",
       "      <th>0</th>\n",
       "      <td>90</td>\n",
       "      <td>42</td>\n",
       "      <td>43</td>\n",
       "      <td>20.879744</td>\n",
       "      <td>82.002744</td>\n",
       "      <td>6.502985</td>\n",
       "      <td>202.935536</td>\n",
       "      <td>rice</td>\n",
       "    </tr>\n",
       "    <tr>\n",
       "      <th>1</th>\n",
       "      <td>85</td>\n",
       "      <td>58</td>\n",
       "      <td>41</td>\n",
       "      <td>21.770462</td>\n",
       "      <td>80.319644</td>\n",
       "      <td>7.038096</td>\n",
       "      <td>226.655537</td>\n",
       "      <td>rice</td>\n",
       "    </tr>\n",
       "    <tr>\n",
       "      <th>2</th>\n",
       "      <td>60</td>\n",
       "      <td>55</td>\n",
       "      <td>44</td>\n",
       "      <td>23.004459</td>\n",
       "      <td>82.320763</td>\n",
       "      <td>7.840207</td>\n",
       "      <td>263.964248</td>\n",
       "      <td>rice</td>\n",
       "    </tr>\n",
       "    <tr>\n",
       "      <th>3</th>\n",
       "      <td>74</td>\n",
       "      <td>35</td>\n",
       "      <td>40</td>\n",
       "      <td>26.491096</td>\n",
       "      <td>80.158363</td>\n",
       "      <td>6.980401</td>\n",
       "      <td>242.864034</td>\n",
       "      <td>rice</td>\n",
       "    </tr>\n",
       "    <tr>\n",
       "      <th>4</th>\n",
       "      <td>78</td>\n",
       "      <td>42</td>\n",
       "      <td>42</td>\n",
       "      <td>20.130175</td>\n",
       "      <td>81.604873</td>\n",
       "      <td>7.628473</td>\n",
       "      <td>262.717340</td>\n",
       "      <td>rice</td>\n",
       "    </tr>\n",
       "  </tbody>\n",
       "</table>\n",
       "</div>"
      ],
      "text/plain": [
       "    N   P   K  temperature   humidity        ph    rainfall label\n",
       "0  90  42  43    20.879744  82.002744  6.502985  202.935536  rice\n",
       "1  85  58  41    21.770462  80.319644  7.038096  226.655537  rice\n",
       "2  60  55  44    23.004459  82.320763  7.840207  263.964248  rice\n",
       "3  74  35  40    26.491096  80.158363  6.980401  242.864034  rice\n",
       "4  78  42  42    20.130175  81.604873  7.628473  262.717340  rice"
      ]
     },
     "execution_count": 9,
     "metadata": {},
     "output_type": "execute_result"
    }
   ],
   "source": [
    "#check the head of the dataset\n",
    "data.head()"
   ]
  },
  {
   "cell_type": "code",
   "execution_count": 10,
   "metadata": {},
   "outputs": [
    {
     "data": {
      "text/plain": [
       "N              0\n",
       "P              0\n",
       "K              0\n",
       "temperature    0\n",
       "humidity       0\n",
       "ph             0\n",
       "rainfall       0\n",
       "label          0\n",
       "dtype: int64"
      ]
     },
     "execution_count": 10,
     "metadata": {},
     "output_type": "execute_result"
    }
   ],
   "source": [
    "#check if there is any missing values in the dataset\n",
    "data.isnull().sum()"
   ]
  },
  {
   "cell_type": "code",
   "execution_count": 11,
   "metadata": {},
   "outputs": [
    {
     "data": {
      "text/plain": [
       "apple          100\n",
       "banana         100\n",
       "pomegranate    100\n",
       "maize          100\n",
       "papaya         100\n",
       "muskmelon      100\n",
       "grapes         100\n",
       "coconut        100\n",
       "mothbeans      100\n",
       "mango          100\n",
       "coffee         100\n",
       "pigeonpeas     100\n",
       "kidneybeans    100\n",
       "lentil         100\n",
       "mungbean       100\n",
       "blackgram      100\n",
       "chickpea       100\n",
       "watermelon     100\n",
       "cotton         100\n",
       "orange         100\n",
       "jute           100\n",
       "rice           100\n",
       "Name: label, dtype: int64"
      ]
     },
     "execution_count": 11,
     "metadata": {},
     "output_type": "execute_result"
    }
   ],
   "source": [
    "#check the crops present in the dataset\n",
    "data['label'].value_counts()"
   ]
  },
  {
   "cell_type": "code",
   "execution_count": 17,
   "metadata": {},
   "outputs": [
    {
     "name": "stdout",
     "output_type": "stream",
     "text": [
      "Average Ratio of Nitrogen in the soil : 50.55\n",
      "Average Ratio of Phosphorus in the soil : 53.36\n",
      "Average Ratio of Potassium in the soil : 48.15\n",
      "Average Temperature in Celsius : 25.62\n",
      "Average Relative humidity in % : 71.48\n",
      "Average pH value of the soil : 6.47\n",
      "Average Rainfall in mm : 103.46\n"
     ]
    }
   ],
   "source": [
    "#check the summary for all the crops\n",
    "print(\"Average Ratio of Nitrogen in the soil : {0:.2f}\".format(data['N'].mean()))\n",
    "print(\"Average Ratio of Phosphorus in the soil : {0:.2f}\".format(data['P'].mean()))\n",
    "print(\"Average Ratio of Potassium in the soil : {0:.2f}\".format(data['K'].mean()))\n",
    "print(\"Average Temperature in Celsius : {0:.2f}\".format(data['temperature'].mean()))\n",
    "print(\"Average Relative humidity in % : {0:.2f}\".format(data['humidity'].mean()))\n",
    "print(\"Average pH value of the soil : {0:.2f}\".format(data['ph'].mean()))\n",
    "print(\"Average Rainfall in mm : {0:.2f}\".format(data['rainfall'].mean()))\n",
    "                                                             "
   ]
  },
  {
   "cell_type": "code",
   "execution_count": 19,
   "metadata": {},
   "outputs": [
    {
     "data": {
      "application/vnd.jupyter.widget-view+json": {
       "model_id": "9415bac2f0944fc6937f51807c50809f",
       "version_major": 2,
       "version_minor": 0
      },
      "text/plain": [
       "interactive(children=(Dropdown(description='crops', options=('apple', 'banana', 'pomegranate', 'maize', 'papay…"
      ]
     },
     "metadata": {},
     "output_type": "display_data"
    }
   ],
   "source": [
    "#check the sumary statistics of each of the crop\n",
    "\n",
    "@interact\n",
    "def summary(crops = list(data['label'].value_counts().index)):\n",
    "    x=data[data['label']==crops]\n",
    "    print(\"-----------------------------------------\")\n",
    "    print(\"Statistics for Nitrogen\")\n",
    "    print(\"Minimum Nitrogen required : \", x['N'].min())\n",
    "    print(\"Average Nitrogen required : \", x['N'].mean())\n",
    "    print(\"Maximum Nitrogen required : \", x['N'].max())\n",
    "    print(\"-----------------------------------------\")\n",
    "    print(\"Statistics for Phosphorus\")\n",
    "    print(\"Minimum Phosphorus required : \", x['P'].min())\n",
    "    print(\"Average Phosphorus required : \", x['P'].mean())\n",
    "    print(\"Maximum Phosphorus required : \", x['P'].max())\n",
    "    print(\"-----------------------------------------\")\n",
    "    print(\"Statistics for Potassium\")\n",
    "    print(\"Minimum Potassium required : \", x['K'].min())\n",
    "    print(\"Average Potassium required : \", x['K'].mean())\n",
    "    print(\"Maximum Potassium required : \", x['K'].max())\n",
    "    print(\"-----------------------------------------\")\n",
    "    print(\"Statistics for Temperature\")\n",
    "    print(\"Minimum Temperature required : {0:.2f}\".format(x['temperature'].min()))\n",
    "    print(\"Average Temperature required : {0:.2f}\".format(x['temperature'].mean()))\n",
    "    print(\"Maximum Temperature required : {0:.2f}\".format(x['temperature'].max()))\n",
    "    print(\"-----------------------------------------\")\n",
    "    print(\"Statistics for Humidity\")\n",
    "    print(\"Minimum Humidity required : {0:.2f}\".format(x['humidity'].min()))\n",
    "    print(\"Average Humidity required : {0:.2f}\".format(x['humidity'].mean()))\n",
    "    print(\"Maximum Humidity required : {0:.2f}\".format(x['humidity'].max()))\n",
    "    print(\"-----------------------------------------\")\n",
    "    print(\"Statistics for ph\")\n",
    "    print(\"Minimum ph required : {0:.2f}\".format(x['ph'].min()))\n",
    "    print(\"Average ph required : {0:.2f}\".format(x['ph'].mean()))\n",
    "    print(\"Maximum ph required : {0:.2f}\".format(x['ph'].max()))\n",
    "    print(\"-----------------------------------------\")\n",
    "    print(\"Statistics for Rainfall\")\n",
    "    print(\"Minimum Rainfall required : {0:.2f}\".format(x['rainfall'].min()))\n",
    "    print(\"Average Rainfall required : {0:.2f}\".format(x['rainfall'].mean()))\n",
    "    print(\"Maximum Rainfall required : {0:.2f}\".format(x['rainfall'].max()))\n",
    "    print(\"-----------------------------------------\")\n",
    "    "
   ]
  },
  {
   "cell_type": "code",
   "execution_count": 30,
   "metadata": {},
   "outputs": [
    {
     "data": {
      "application/vnd.jupyter.widget-view+json": {
       "model_id": "915e2750553747a68fa62574926c6f53",
       "version_major": 2,
       "version_minor": 0
      },
      "text/plain": [
       "interactive(children=(Dropdown(description='conditions', options=('N', 'P', 'K', 'temperature', 'ph', 'humidit…"
      ]
     },
     "metadata": {},
     "output_type": "display_data"
    }
   ],
   "source": [
    "#compare the avearge requirement for each crops with average conditions\n",
    "\n",
    "@interact\n",
    "def compare(conditions=['N','P','K','temperature','ph','humidity','rainfall']):\n",
    "    print(\"Average value for \", conditions ,\" is {0:.2f}\".format(data[conditions].mean()))\n",
    "    print(\"---------------------------------------\")\n",
    "    print(\"Apple : {0:.2f}\".format(data[(data['label']== 'apple')][conditions].mean()))\n",
    "    print(\"Banana : {0:.2f}\".format(data[(data['label']== 'banana')][conditions].mean()))\n",
    "    print(\"Pomegranate : {0:.2f}\".format(data[(data['label']== 'pomegranate')][conditions].mean()))\n",
    "    print(\"Maize : {0:.2f}\".format(data[(data['label']== 'maize')][conditions].mean()))\n",
    "    print(\"Papaya : {0:.2f}\".format(data[(data['label']== 'papaya')][conditions].mean()))\n",
    "    print(\"Muskmelon : {0:.2f}\".format(data[(data['label']== 'muskmelon')][conditions].mean()))\n",
    "    print(\"Grapes : {0:.2f}\".format(data[(data['label']== 'grapes')][conditions].mean()))\n",
    "    print(\"Coconut : {0:.2f}\".format(data[(data['label']== 'coconut')][conditions].mean()))\n",
    "    print(\"Mothbeans : {0:.2f}\".format(data[(data['label']== 'mothbeans')][conditions].mean()))\n",
    "    print(\"Mango : {0:.2f}\".format(data[(data['label']== 'mango')][conditions].mean()))\n",
    "    print(\"Coffee : {0:.2f}\".format(data[(data['label']== 'coffee')][conditions].mean()))\n",
    "    print(\"Pigeonpeas : {0:.2f}\".format(data[(data['label']== 'pigeonpeas')][conditions].mean()))\n",
    "    print(\"Kidneybeans : {0:.2f}\".format(data[(data['label']== 'kidneybeans')][conditions].mean()))\n",
    "    print(\"Lentil : {0:.2f}\".format(data[(data['label']== 'lentil')][conditions].mean()))\n",
    "    print(\"Mungbean : {0:.2f}\".format(data[(data['label']== 'mungbean')][conditions].mean()))\n",
    "    print(\"Blackgram : {0:.2f}\".format(data[(data['label']== 'blackgram')][conditions].mean()))\n",
    "    print(\"Chickpea : {0:.2f}\".format(data[(data['label']== 'chickpea')][conditions].mean()))\n",
    "    print(\"Watermelon : {0:.2f}\".format(data[(data['label']== 'watermelon')][conditions].mean()))\n",
    "    print(\"Cotton : {0:.2f}\".format(data[(data['label']== 'cotton')][conditions].mean()))\n",
    "    print(\"Orange : {0:.2f}\".format(data[(data['label']== 'orange')][conditions].mean()))\n",
    "    print(\"Jute : {0:.2f}\".format(data[(data['label']== 'jute')][conditions].mean()))\n",
    "    print(\"Rice : {0:.2f}\".format(data[(data['label']== 'rice')][conditions].mean()))"
   ]
  },
  {
   "cell_type": "code",
   "execution_count": 31,
   "metadata": {},
   "outputs": [
    {
     "data": {
      "application/vnd.jupyter.widget-view+json": {
       "model_id": "2aea1c691e2b4e2e92ad3479edd0f3c2",
       "version_major": 2,
       "version_minor": 0
      },
      "text/plain": [
       "interactive(children=(Dropdown(description='conditions', options=('N', 'P', 'K', 'temperature', 'ph', 'humidit…"
      ]
     },
     "metadata": {},
     "output_type": "display_data"
    }
   ],
   "source": [
    "@interact\n",
    "def compare(conditions=['N','P','K','temperature','ph','humidity','rainfall']):\n",
    "    print(\"Crops which require greater than average\",conditions,\"\\n\")\n",
    "    print(data[data[conditions] > data[conditions].mean()]['label'].unique())\n",
    "    print(\"--------------------------------------------------------------\")\n",
    "    print(\"Crops which require less than average\",conditions,\"\\n\")\n",
    "    print(data[data[conditions] <= data[conditions].mean()]['label'].unique())\n",
    "    "
   ]
  },
  {
   "cell_type": "code",
   "execution_count": 109,
   "metadata": {
    "scrolled": true
   },
   "outputs": [
    {
     "data": {
      "image/png": "[encoded data removed]",
      "text/plain": [
       "<Figure size 720x720 with 7 Axes>"
      ]
     },
     "metadata": {
      "needs_background": "light"
     },
     "output_type": "display_data"
    }
   ],
   "source": [
    "#plotting distribution plot\n",
    "\n",
    "plt.subplot(3,5,1)\n",
    "sns.distplot(data['N'],color ='blue')\n",
    "plt.xlabel('Ratio of Nitrogen',fontsize=12)\n",
    "plt.ylabel('Density',fontsize=12)\n",
    "plt.grid()\n",
    "\n",
    "plt.subplot(3,5,3)\n",
    "sns.distplot(data['P'],color ='pink')\n",
    "plt.xlabel('Ratio of Phosphorus',fontsize=12)\n",
    "plt.ylabel('Density',fontsize=12)\n",
    "plt.grid()\n",
    "\n",
    "plt.subplot(3,5,5)\n",
    "sns.distplot(data['K'],color ='darkblue')\n",
    "plt.xlabel('Ratio of Potassium',fontsize=12)\n",
    "plt.ylabel('Density',fontsize=12)\n",
    "plt.grid()\n",
    "\n",
    "plt.subplot(3,5,6)\n",
    "sns.distplot(data['temperature'],color ='black')\n",
    "plt.xlabel('Temperature',fontsize=12)\n",
    "plt.ylabel('Density',fontsize=12)\n",
    "plt.grid()\n",
    "\n",
    "plt.subplot(3,5,8)\n",
    "sns.distplot(data['rainfall'],color ='grey')\n",
    "plt.xlabel('Rainfall',fontsize=12)\n",
    "plt.ylabel('Density',fontsize=12)\n",
    "plt.grid()\n",
    "\n",
    "plt.subplot(3,5,10)\n",
    "sns.distplot(data['humidity'],color ='lightgreen')\n",
    "plt.xlabel('Humidity',fontsize=12)\n",
    "plt.ylabel('Density',fontsize=12)\n",
    "plt.grid()\n",
    "\n",
    "plt.subplot(3,5,11)\n",
    "sns.distplot(data['ph'],color ='darkgreen')\n",
    "plt.xlabel('ph level',fontsize=12)\n",
    "plt.ylabel('Density',fontsize=12)\n",
    "plt.grid()\n",
    "\n",
    "plt.suptitle('Distribution for Agricultural conditions', fontsize =20)\n",
    "plt.show()"
   ]
  },
  {
   "cell_type": "code",
   "execution_count": 48,
   "metadata": {},
   "outputs": [
    {
     "name": "stdout",
     "output_type": "stream",
     "text": [
      "Some Interesting Patterns\n",
      "------------------------------------\n",
      "Crops which require very high ratio of Nitrogen content in the soil : ['cotton']\n",
      "Crops which require very high ratio of Phosphorus content in the soil : ['grapes' 'apple']\n",
      "Crops which require very high ratio of Potassium content in the soil : ['grapes' 'apple']\n",
      "Crops which require very high Rainfall :  ['rice' 'papaya' 'coconut']\n",
      "Crops which require very low temperature :  ['grapes']\n",
      "Crops which require very high temperature :  ['grapes' 'papaya']\n",
      "Crops which require very low humidity :  ['chickpea' 'kidneybeans']\n",
      "Crops which require very low ph : ['mothbeans']\n",
      "Crops which require very high ph :  ['mothbeans']\n"
     ]
    }
   ],
   "source": [
    "#finding out some interesting patterns\n",
    "\n",
    "print(\"Some Interesting Patterns\")\n",
    "print(\"------------------------------------\")\n",
    "print(\"Crops which require very high ratio of Nitrogen content in the soil :\", data[data['N']>120]['label'].unique())\n",
    "print(\"Crops which require very high ratio of Phosphorus content in the soil :\", data[data['P']>100]['label'].unique())\n",
    "print(\"Crops which require very high ratio of Potassium content in the soil :\", data[data['K']>200]['label'].unique())\n",
    "print(\"Crops which require very high Rainfall : \", data[data['rainfall']>200]['label'].unique())\n",
    "print(\"Crops which require very low temperature : \", data[data['temperature']<10]['label'].unique())\n",
    "print(\"Crops which require very high temperature : \", data[data['temperature']>40]['label'].unique())\n",
    "print(\"Crops which require very low humidity : \", data[data['humidity']<20]['label'].unique())\n",
    "print(\"Crops which require very low ph :\", data[data['ph']<4]['label'].unique())\n",
    "print(\"Crops which require very high ph : \", data[data['ph']>9]['label'].unique())\n"
   ]
  },
  {
   "cell_type": "code",
   "execution_count": 51,
   "metadata": {},
   "outputs": [
    {
     "name": "stdout",
     "output_type": "stream",
     "text": [
      "Summer Crops\n",
      "['pigeonpeas' 'mothbeans' 'blackgram' 'mango' 'grapes' 'orange' 'papaya']\n",
      "-----------------------------------\n",
      "Winter Crops\n",
      "['maize' 'pigeonpeas' 'lentil' 'pomegranate' 'grapes' 'orange']\n",
      "-----------------------------------\n",
      "Rainy Crops\n",
      "['rice' 'papaya' 'coconut']\n"
     ]
    }
   ],
   "source": [
    "#which crops to be grown in summer, winter and rainy season\n",
    "\n",
    "print(\"Summer Crops\")\n",
    "print(data[(data['temperature']>30) & (data['humidity'] > 50)]['label'].unique())\n",
    "print(\"-----------------------------------\")\n",
    "print(\"Winter Crops\")\n",
    "print(data[(data['temperature']<20) & (data['humidity'] > 30)]['label'].unique())\n",
    "print(\"-----------------------------------\")\n",
    "print(\"Rainy Crops\")\n",
    "print(data[(data['rainfall']>200) & (data['humidity'] > 30)]['label'].unique())"
   ]
  },
  {
   "cell_type": "code",
   "execution_count": 53,
   "metadata": {},
   "outputs": [
    {
     "name": "stdout",
     "output_type": "stream",
     "text": [
      "(2200, 7)\n"
     ]
    }
   ],
   "source": [
    "#applying clustering algorithm\n",
    "\n",
    "from sklearn.cluster import KMeans\n",
    "\n",
    "#removing the labels column\n",
    "x=data.drop(['label'],axis =1)\n",
    "\n",
    "#selecting all the values of the data\n",
    "x=x.values\n",
    "\n",
    "#checking the shape\n",
    "print(x.shape)"
   ]
  },
  {
   "cell_type": "code",
   "execution_count": 54,
   "metadata": {},
   "outputs": [
    {
     "data": {
      "image/png": "[encoded data removed]",
      "text/plain": [
       "<Figure size 720x288 with 1 Axes>"
      ]
     },
     "metadata": {
      "needs_background": "light"
     },
     "output_type": "display_data"
    }
   ],
   "source": [
    "#determine the optimum number of clusters within the dataset\n",
    "\n",
    "plt.rcParams['figure.figsize']=(10,4)\n",
    "wcss=[]\n",
    "for i in range(1,11):\n",
    "    km=KMeans(n_clusters = i, init='k-means++', max_iter = 300, n_init = 10, random_state = 0)\n",
    "    km.fit(x)\n",
    "    wcss.append(km.inertia_)\n",
    "    \n",
    "#plot the results\n",
    "plt.plot(range(1,11),wcss)\n",
    "plt.title('The Elbow Method',fontsize =20)\n",
    "plt.xlabel('No. of Clusters')\n",
    "plt.ylabel('wcss')\n",
    "plt.show()"
   ]
  },
  {
   "cell_type": "code",
   "execution_count": 57,
   "metadata": {},
   "outputs": [
    {
     "name": "stdout",
     "output_type": "stream",
     "text": [
      "Let's check the result after applying K Means Clustering Analysis \n",
      "\n",
      "Crops in the First cluster: ['maize' 'chickpea' 'kidneybeans' 'pigeonpeas' 'mothbeans' 'mungbean'\n",
      " 'blackgram' 'lentil' 'pomegranate' 'mango' 'orange' 'papaya' 'coconut']\n",
      "-----------------------------------\n",
      "Crops in the Second cluster: ['maize' 'banana' 'watermelon' 'muskmelon' 'papaya' 'cotton' 'coffee']\n",
      "-----------------------------------\n",
      "Crops in the Third cluster: ['grapes' 'apple']\n",
      "-----------------------------------\n",
      "Crops in the Forth cluster: ['rice' 'pigeonpeas' 'papaya' 'coconut' 'jute' 'coffee']\n",
      "-----------------------------------\n"
     ]
    }
   ],
   "source": [
    "#implement K-means clustering\n",
    "\n",
    "km=KMeans(n_clusters = 4, init='k-means++',max_iter = 300, n_init=10, random_state=0)\n",
    "y_means=km.fit_predict(x)\n",
    "\n",
    "#find out the resut\n",
    "a=data['label']\n",
    "y_means=pd.DataFrame(y_means)\n",
    "z=pd.concat([y_means,a],axis=1)\n",
    "z=z.rename(columns = {0:'cluster'})\n",
    "\n",
    "#check the cluster of each crops\n",
    "print(\"Let's check the result after applying K Means Clustering Analysis \\n\")\n",
    "print(\"Crops in the First cluster:\", z[z['cluster']==0]['label'].unique())\n",
    "print(\"-----------------------------------\")\n",
    "print(\"Crops in the Second cluster:\", z[z['cluster']==1]['label'].unique())\n",
    "print(\"-----------------------------------\")\n",
    "print(\"Crops in the Third cluster:\", z[z['cluster']==2]['label'].unique())\n",
    "print(\"-----------------------------------\")\n",
    "print(\"Crops in the Forth cluster:\", z[z['cluster']==3]['label'].unique())\n",
    "print(\"-----------------------------------\")"
   ]
  },
  {
   "cell_type": "markdown",
   "metadata": {},
   "source": [
    "This implies that the crops which are in the same cluster are very much similar to each other but very different from the crops of other clusters.This will really help farmers to adopt modern farming and will surely help in increasing the productivity and profit.It will really have **huge business impact** for the farmers."
   ]
  },
  {
   "cell_type": "code",
   "execution_count": 59,
   "metadata": {},
   "outputs": [
    {
     "name": "stdout",
     "output_type": "stream",
     "text": [
      "Shape of x:  (2200, 7)\n",
      "Shape of y:  (2200,)\n"
     ]
    }
   ],
   "source": [
    "#split the dataset for predictive modelling\n",
    "\n",
    "y=data['label']\n",
    "x=data.drop(['label'],axis=1)\n",
    "\n",
    "print(\"Shape of x: \",x.shape)\n",
    "print(\"Shape of y: \",y.shape)\n"
   ]
  },
  {
   "cell_type": "code",
   "execution_count": 61,
   "metadata": {},
   "outputs": [
    {
     "name": "stdout",
     "output_type": "stream",
     "text": [
      "Shape of X train (1760, 7)\n",
      "Shape of X test (440, 7)\n",
      "Shape of Y train (1760,)\n",
      "Shape of Y test (440,)\n"
     ]
    }
   ],
   "source": [
    "#split the dataset inti training and test set\n",
    "from sklearn.model_selection import train_test_split\n",
    "\n",
    "x_train, x_test,y_train,y_test = train_test_split(x,y,test_size=0.2,random_state=0)\n",
    "\n",
    "print(\"Shape of X train\", x_train.shape)\n",
    "print(\"Shape of X test\", x_test.shape)\n",
    "print(\"Shape of Y train\", y_train.shape)\n",
    "print(\"Shape of Y test\", y_test.shape)"
   ]
  },
  {
   "cell_type": "code",
   "execution_count": 64,
   "metadata": {},
   "outputs": [
    {
     "name": "stderr",
     "output_type": "stream",
     "text": [
      "C:\\Users\\Destiny\\Anaconda3\\lib\\site-packages\\sklearn\\linear_model\\logistic.py:433: FutureWarning: Default solver will be changed to 'lbfgs' in 0.22. Specify a solver to silence this warning.\n",
      "  FutureWarning)\n",
      "C:\\Users\\Destiny\\Anaconda3\\lib\\site-packages\\sklearn\\linear_model\\logistic.py:460: FutureWarning: Default multi_class will be changed to 'auto' in 0.22. Specify the multi_class option to silence this warning.\n",
      "  \"this warning.\", FutureWarning)\n"
     ]
    }
   ],
   "source": [
    "#creating a predictive model\n",
    "\n",
    "from sklearn.linear_model import LogisticRegression\n",
    "\n",
    "model=LogisticRegression()\n",
    "model.fit(x_train,y_train)\n",
    "y_pred =model.predict(x_test)\n"
   ]
  },
  {
   "cell_type": "code",
   "execution_count": 66,
   "metadata": {},
   "outputs": [
    {
     "data": {
      "image/png": "[encoded data removed]",
      "text/plain": [
       "<Figure size 720x720 with 2 Axes>"
      ]
     },
     "metadata": {
      "needs_background": "light"
     },
     "output_type": "display_data"
    }
   ],
   "source": [
    "#evaluate model performance\n",
    "\n",
    "from sklearn.metrics import confusion_matrix\n",
    "\n",
    "#print the confusin matrix\n",
    "\n",
    "plt.rcParams['figure.figsize']=(10,10)\n",
    "cm=confusion_matrix(y_test,y_pred)\n",
    "sns.heatmap(cm,annot= True, cmap='Wistia')\n",
    "plt.title('Confusion Matrix for Logistic Rregression', fontsize = 15)\n",
    "plt.show()\n"
   ]
  },
  {
   "cell_type": "code",
   "execution_count": 68,
   "metadata": {},
   "outputs": [
    {
     "name": "stdout",
     "output_type": "stream",
     "text": [
      "              precision    recall  f1-score   support\n",
      "\n",
      "       apple       1.00      1.00      1.00        18\n",
      "      banana       1.00      0.94      0.97        18\n",
      "   blackgram       0.88      1.00      0.94        22\n",
      "    chickpea       1.00      1.00      1.00        23\n",
      "     coconut       1.00      1.00      1.00        15\n",
      "      coffee       1.00      1.00      1.00        17\n",
      "      cotton       0.89      1.00      0.94        16\n",
      "      grapes       1.00      1.00      1.00        18\n",
      "        jute       0.86      0.86      0.86        21\n",
      " kidneybeans       0.95      1.00      0.98        20\n",
      "      lentil       1.00      0.88      0.94        17\n",
      "       maize       1.00      0.89      0.94        18\n",
      "       mango       1.00      1.00      1.00        21\n",
      "   mothbeans       1.00      0.84      0.91        25\n",
      "    mungbean       0.94      1.00      0.97        17\n",
      "   muskmelon       1.00      1.00      1.00        23\n",
      "      orange       1.00      1.00      1.00        23\n",
      "      papaya       0.87      0.95      0.91        21\n",
      "  pigeonpeas       0.95      0.95      0.95        22\n",
      " pomegranate       1.00      1.00      1.00        23\n",
      "        rice       0.88      0.88      0.88        25\n",
      "  watermelon       1.00      1.00      1.00        17\n",
      "\n",
      "   micro avg       0.96      0.96      0.96       440\n",
      "   macro avg       0.96      0.96      0.96       440\n",
      "weighted avg       0.96      0.96      0.96       440\n",
      "\n"
     ]
    }
   ],
   "source": [
    "#print the classification report\n",
    "from sklearn.metrics import classification_report\n",
    "\n",
    "cr=classification_report(y_test,y_pred)\n",
    "print(cr)"
   ]
  },
  {
   "cell_type": "markdown",
   "metadata": {},
   "source": [
    "Precison and Recall values very good and almost equal to 1.00 which implies that model is very **accurate**."
   ]
  },
  {
   "cell_type": "code",
   "execution_count": 110,
   "metadata": {},
   "outputs": [
    {
     "data": {
      "text/html": [
       "<div>\n",
       "<style scoped>\n",
       "    .dataframe tbody tr th:only-of-type {\n",
       "        vertical-align: middle;\n",
       "    }\n",
       "\n",
       "    .dataframe tbody tr th {\n",
       "        vertical-align: top;\n",
       "    }\n",
       "\n",
       "    .dataframe thead th {\n",
       "        text-align: right;\n",
       "    }\n",
       "</style>\n",
       "<table border=\"1\" class=\"dataframe\">\n",
       "  <thead>\n",
       "    <tr style=\"text-align: right;\">\n",
       "      <th></th>\n",
       "      <th>N</th>\n",
       "      <th>P</th>\n",
       "      <th>K</th>\n",
       "      <th>temperature</th>\n",
       "      <th>humidity</th>\n",
       "      <th>ph</th>\n",
       "      <th>rainfall</th>\n",
       "      <th>label</th>\n",
       "    </tr>\n",
       "  </thead>\n",
       "  <tbody>\n",
       "    <tr>\n",
       "      <th>0</th>\n",
       "      <td>90</td>\n",
       "      <td>42</td>\n",
       "      <td>43</td>\n",
       "      <td>20.879744</td>\n",
       "      <td>82.002744</td>\n",
       "      <td>6.502985</td>\n",
       "      <td>202.935536</td>\n",
       "      <td>rice</td>\n",
       "    </tr>\n",
       "    <tr>\n",
       "      <th>1</th>\n",
       "      <td>85</td>\n",
       "      <td>58</td>\n",
       "      <td>41</td>\n",
       "      <td>21.770462</td>\n",
       "      <td>80.319644</td>\n",
       "      <td>7.038096</td>\n",
       "      <td>226.655537</td>\n",
       "      <td>rice</td>\n",
       "    </tr>\n",
       "    <tr>\n",
       "      <th>2</th>\n",
       "      <td>60</td>\n",
       "      <td>55</td>\n",
       "      <td>44</td>\n",
       "      <td>23.004459</td>\n",
       "      <td>82.320763</td>\n",
       "      <td>7.840207</td>\n",
       "      <td>263.964248</td>\n",
       "      <td>rice</td>\n",
       "    </tr>\n",
       "    <tr>\n",
       "      <th>3</th>\n",
       "      <td>74</td>\n",
       "      <td>35</td>\n",
       "      <td>40</td>\n",
       "      <td>26.491096</td>\n",
       "      <td>80.158363</td>\n",
       "      <td>6.980401</td>\n",
       "      <td>242.864034</td>\n",
       "      <td>rice</td>\n",
       "    </tr>\n",
       "    <tr>\n",
       "      <th>4</th>\n",
       "      <td>78</td>\n",
       "      <td>42</td>\n",
       "      <td>42</td>\n",
       "      <td>20.130175</td>\n",
       "      <td>81.604873</td>\n",
       "      <td>7.628473</td>\n",
       "      <td>262.717340</td>\n",
       "      <td>rice</td>\n",
       "    </tr>\n",
       "  </tbody>\n",
       "</table>\n",
       "</div>"
      ],
      "text/plain": [
       "    N   P   K  temperature   humidity        ph    rainfall label\n",
       "0  90  42  43    20.879744  82.002744  6.502985  202.935536  rice\n",
       "1  85  58  41    21.770462  80.319644  7.038096  226.655537  rice\n",
       "2  60  55  44    23.004459  82.320763  7.840207  263.964248  rice\n",
       "3  74  35  40    26.491096  80.158363  6.980401  242.864034  rice\n",
       "4  78  42  42    20.130175  81.604873  7.628473  262.717340  rice"
      ]
     },
     "execution_count": 110,
     "metadata": {},
     "output_type": "execute_result"
    }
   ],
   "source": [
    "#check the prediction\n",
    "data.head()"
   ]
  },
  {
   "cell_type": "code",
   "execution_count": 70,
   "metadata": {},
   "outputs": [
    {
     "name": "stdout",
     "output_type": "stream",
     "text": [
      "The suggested crop for the given climatic condition is : ['rice']\n"
     ]
    }
   ],
   "source": [
    "prediction = model.predict((np.array([[90,40,40,20,80,7,200]])))\n",
    "print(\"The suggested crop for the given climatic condition is :\", prediction)"
   ]
  },
  {
   "cell_type": "code",
   "execution_count": 74,
   "metadata": {},
   "outputs": [
    {
     "name": "stdout",
     "output_type": "stream",
     "text": [
      "The suggested crop for the given climatic condition is : ['coffee']\n"
     ]
    }
   ],
   "source": [
    "prediction = model.predict((np.array([[97,35,35,24,55,6,170]])))\n",
    "print(\"The suggested crop for the given climatic condition is :\", prediction)"
   ]
  },
  {
   "cell_type": "markdown",
   "metadata": {},
   "source": [
    "Hence, with this predictive model , it can be easily predicted which crop to grow depending upon the climatic and soil conditions which in turn will increase **productivity** and will bring **huge profit** to the farmers. "
   ]
  }
 ],
 "metadata": {
  "kernelspec": {
   "display_name": "Python 3",
   "language": "python",
   "name": "python3"
  },
  "language_info": {
   "codemirror_mode": {
    "name": "ipython",
    "version": 3
   },
   "file_extension": ".py",
   "mimetype": "text/x-python",
   "name": "python",
   "nbconvert_exporter": "python",
   "pygments_lexer": "ipython3",
   "version": "3.7.1"
  }
 },
 "nbformat": 4,
 "nbformat_minor": 2
}
